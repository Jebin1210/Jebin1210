{
 "cells": [
  {
   "cell_type": "markdown",
   "metadata": {},
   "source": [
    "# Problem Statement: Image Classification"
   ]
  },
  {
   "cell_type": "code",
   "execution_count": null,
   "metadata": {},
   "outputs": [],
   "source": [
    "# Here I have created a 5 layer CNN model to classify different images into four categories:\n",
    "(i)Attire\n",
    "(ii)Decoration and Signage \n",
    "(iii)Food\n",
    "(iv)Misc "
   ]
  },
  {
   "cell_type": "code",
   "execution_count": 1,
   "metadata": {},
   "outputs": [],
   "source": [
    "#Importing the required packages"
   ]
  },
  {
   "cell_type": "code",
   "execution_count": 2,
   "metadata": {},
   "outputs": [
    {
     "name": "stderr",
     "output_type": "stream",
     "text": [
      "Using TensorFlow backend.\n"
     ]
    }
   ],
   "source": [
    "#Importing TensorFlow as Keras uses tensorflow backend\n",
    "import tensorflow as tf\n",
    "\n",
    "#Importing pandas for data processing\n",
    "import pandas as pd\n",
    "\n",
    "#To perform numerical operations\n",
    "import numpy as np\n",
    "\n",
    "#Importing Keras for building the required classification model\n",
    "import keras\n",
    "\n",
    "#For applying transformation and scaling the data\n",
    "from keras.preprocessing import image"
   ]
  },
  {
   "cell_type": "code",
   "execution_count": 3,
   "metadata": {},
   "outputs": [],
   "source": [
    "#For visualizing the data\n",
    "import matplotlib.pyplot as plt\n",
    "%matplotlib inline"
   ]
  },
  {
   "cell_type": "code",
   "execution_count": 4,
   "metadata": {},
   "outputs": [],
   "source": [
    "#Importing the train dataset\n",
    "data = pd.read_csv(\"train.csv\")"
   ]
  },
  {
   "cell_type": "code",
   "execution_count": 5,
   "metadata": {},
   "outputs": [
    {
     "data": {
      "text/html": [
       "<div>\n",
       "<style scoped>\n",
       "    .dataframe tbody tr th:only-of-type {\n",
       "        vertical-align: middle;\n",
       "    }\n",
       "\n",
       "    .dataframe tbody tr th {\n",
       "        vertical-align: top;\n",
       "    }\n",
       "\n",
       "    .dataframe thead th {\n",
       "        text-align: right;\n",
       "    }\n",
       "</style>\n",
       "<table border=\"1\" class=\"dataframe\">\n",
       "  <thead>\n",
       "    <tr style=\"text-align: right;\">\n",
       "      <th></th>\n",
       "      <th>Image</th>\n",
       "      <th>Class</th>\n",
       "    </tr>\n",
       "  </thead>\n",
       "  <tbody>\n",
       "    <tr>\n",
       "      <th>0</th>\n",
       "      <td>image7042.jpg</td>\n",
       "      <td>Food</td>\n",
       "    </tr>\n",
       "    <tr>\n",
       "      <th>1</th>\n",
       "      <td>image3327.jpg</td>\n",
       "      <td>misc</td>\n",
       "    </tr>\n",
       "    <tr>\n",
       "      <th>2</th>\n",
       "      <td>image10335.jpg</td>\n",
       "      <td>Attire</td>\n",
       "    </tr>\n",
       "    <tr>\n",
       "      <th>3</th>\n",
       "      <td>image8019.jpg</td>\n",
       "      <td>Food</td>\n",
       "    </tr>\n",
       "    <tr>\n",
       "      <th>4</th>\n",
       "      <td>image2128.jpg</td>\n",
       "      <td>Attire</td>\n",
       "    </tr>\n",
       "  </tbody>\n",
       "</table>\n",
       "</div>"
      ],
      "text/plain": [
       "            Image   Class\n",
       "0   image7042.jpg    Food\n",
       "1   image3327.jpg    misc\n",
       "2  image10335.jpg  Attire\n",
       "3   image8019.jpg    Food\n",
       "4   image2128.jpg  Attire"
      ]
     },
     "execution_count": 5,
     "metadata": {},
     "output_type": "execute_result"
    }
   ],
   "source": [
    "#Viewing the contents of the training dataset\n",
    "data.head()"
   ]
  },
  {
   "cell_type": "code",
   "execution_count": null,
   "metadata": {},
   "outputs": [],
   "source": []
  },
  {
   "cell_type": "markdown",
   "metadata": {},
   "source": [
    "# Visualizing the data using one image from the train dataset"
   ]
  },
  {
   "cell_type": "code",
   "execution_count": 7,
   "metadata": {},
   "outputs": [],
   "source": [
    "test_image = image.load_img('C:\\\\Users\\\\Alwin\\\\Desktop\\\\Batch-7-Python Demos\\\\AI\\\\CAW studios\\\\train_images\\\\image16.jpg',target_size=(150,150,3))"
   ]
  },
  {
   "cell_type": "code",
   "execution_count": 8,
   "metadata": {},
   "outputs": [
    {
     "data": {
      "image/png": "[encoded data removed]",
      "text/plain": [
       "<PIL.Image.Image image mode=RGB size=150x150 at 0x2D419DB6288>"
      ]
     },
     "execution_count": 8,
     "metadata": {},
     "output_type": "execute_result"
    }
   ],
   "source": [
    "test_image"
   ]
  },
  {
   "cell_type": "code",
   "execution_count": 9,
   "metadata": {},
   "outputs": [],
   "source": [
    "#Mapping the corresponding label of the test image used above"
   ]
  },
  {
   "cell_type": "code",
   "execution_count": 10,
   "metadata": {},
   "outputs": [
    {
     "data": {
      "text/plain": [
       "733    Decorationandsignage\n",
       "Name: Class, dtype: object"
      ]
     },
     "execution_count": 10,
     "metadata": {},
     "output_type": "execute_result"
    }
   ],
   "source": [
    "data.query(\"Image=='image16.jpg'\")[\"Class\"]"
   ]
  },
  {
   "cell_type": "code",
   "execution_count": null,
   "metadata": {},
   "outputs": [],
   "source": []
  },
  {
   "cell_type": "markdown",
   "metadata": {},
   "source": [
    "# Function to read, load and convert the images into number so that we can build the model using the same"
   ]
  },
  {
   "cell_type": "code",
   "execution_count": 12,
   "metadata": {},
   "outputs": [],
   "source": [
    "#Tqdm is used to represent the progress of the our loop in a quantitative way\n",
    "from tqdm import tqdm"
   ]
  },
  {
   "cell_type": "code",
   "execution_count": 77,
   "metadata": {},
   "outputs": [
    {
     "name": "stderr",
     "output_type": "stream",
     "text": [
      "100%|████████████████████████████████████████████████████████████████████████████| 5983/5983 [00:03<00:00, 1831.35it/s]\n"
     ]
    }
   ],
   "source": [
    "xtrain=[]\n",
    "ytrain=[]\n",
    "counter=0\n",
    "for i in tqdm(data['Image']):\n",
    "    try:\n",
    "        path = 'C:\\\\Users\\\\Alwin\\\\Desktop\\\\Batch-7-Python Demos\\\\AI\\\\CAW studios\\\\train_images\\\\'+str(i)\n",
    "        load_image=image.load_img(path,target_size=(50,50))\n",
    "        converted_image=image.img_to_array(load_image)\n",
    "        xtrain.append(converted_image)\n",
    "        ytrain.append(data['Class'][counter])\n",
    "        counter=counter+1\n",
    "    except:\n",
    "        counter= counter+1\n",
    "        continue"
   ]
  },
  {
   "cell_type": "code",
   "execution_count": null,
   "metadata": {},
   "outputs": [],
   "source": []
  },
  {
   "cell_type": "markdown",
   "metadata": {},
   "source": [
    "# Exploratory Data Analysis"
   ]
  },
  {
   "cell_type": "code",
   "execution_count": 15,
   "metadata": {},
   "outputs": [
    {
     "data": {
      "text/plain": [
       "5000"
      ]
     },
     "execution_count": 15,
     "metadata": {},
     "output_type": "execute_result"
    }
   ],
   "source": [
    "#No of images used for training\n",
    "len(xtrain)"
   ]
  },
  {
   "cell_type": "code",
   "execution_count": 16,
   "metadata": {},
   "outputs": [
    {
     "data": {
      "text/plain": [
       "5000"
      ]
     },
     "execution_count": 16,
     "metadata": {},
     "output_type": "execute_result"
    }
   ],
   "source": [
    "len(ytrain)"
   ]
  },
  {
   "cell_type": "code",
   "execution_count": 88,
   "metadata": {},
   "outputs": [],
   "source": [
    "xtrain = np.array(xtrain)"
   ]
  },
  {
   "cell_type": "code",
   "execution_count": 18,
   "metadata": {},
   "outputs": [],
   "source": [
    "#There are 5000 images in the training dataset and shape of each image is (50*50*3) where 3 represents number of channels(Since it is a colour image the channel value here is 3)"
   ]
  },
  {
   "cell_type": "code",
   "execution_count": 89,
   "metadata": {},
   "outputs": [
    {
     "data": {
      "text/plain": [
       "(5000, 50, 50, 3)"
      ]
     },
     "execution_count": 89,
     "metadata": {},
     "output_type": "execute_result"
    }
   ],
   "source": [
    "xtrain.shape"
   ]
  },
  {
   "cell_type": "code",
   "execution_count": 69,
   "metadata": {},
   "outputs": [
    {
     "data": {
      "text/html": [
       "<div>\n",
       "<style scoped>\n",
       "    .dataframe tbody tr th:only-of-type {\n",
       "        vertical-align: middle;\n",
       "    }\n",
       "\n",
       "    .dataframe tbody tr th {\n",
       "        vertical-align: top;\n",
       "    }\n",
       "\n",
       "    .dataframe thead th {\n",
       "        text-align: right;\n",
       "    }\n",
       "</style>\n",
       "<table border=\"1\" class=\"dataframe\">\n",
       "  <thead>\n",
       "    <tr style=\"text-align: right;\">\n",
       "      <th></th>\n",
       "      <th>Attire</th>\n",
       "      <th>Decorationandsignage</th>\n",
       "      <th>Food</th>\n",
       "      <th>misc</th>\n",
       "    </tr>\n",
       "  </thead>\n",
       "  <tbody>\n",
       "    <tr>\n",
       "      <th>0</th>\n",
       "      <td>0</td>\n",
       "      <td>0</td>\n",
       "      <td>1</td>\n",
       "      <td>0</td>\n",
       "    </tr>\n",
       "    <tr>\n",
       "      <th>1</th>\n",
       "      <td>0</td>\n",
       "      <td>0</td>\n",
       "      <td>0</td>\n",
       "      <td>1</td>\n",
       "    </tr>\n",
       "    <tr>\n",
       "      <th>2</th>\n",
       "      <td>1</td>\n",
       "      <td>0</td>\n",
       "      <td>0</td>\n",
       "      <td>0</td>\n",
       "    </tr>\n",
       "    <tr>\n",
       "      <th>3</th>\n",
       "      <td>0</td>\n",
       "      <td>0</td>\n",
       "      <td>1</td>\n",
       "      <td>0</td>\n",
       "    </tr>\n",
       "    <tr>\n",
       "      <th>4</th>\n",
       "      <td>1</td>\n",
       "      <td>0</td>\n",
       "      <td>0</td>\n",
       "      <td>0</td>\n",
       "    </tr>\n",
       "  </tbody>\n",
       "</table>\n",
       "</div>"
      ],
      "text/plain": [
       "   Attire  Decorationandsignage  Food  misc\n",
       "0       0                     0     1     0\n",
       "1       0                     0     0     1\n",
       "2       1                     0     0     0\n",
       "3       0                     0     1     0\n",
       "4       1                     0     0     0"
      ]
     },
     "execution_count": 69,
     "metadata": {},
     "output_type": "execute_result"
    }
   ],
   "source": [
    "#The columns name of this dataframe are the different classes \n",
    "labels = pd.get_dummies(ytrain)\n",
    "labels.head()"
   ]
  },
  {
   "cell_type": "code",
   "execution_count": 90,
   "metadata": {},
   "outputs": [],
   "source": [
    "ytrain = np.array(pd.get_dummies(ytrain))"
   ]
  },
  {
   "cell_type": "code",
   "execution_count": null,
   "metadata": {},
   "outputs": [],
   "source": []
  },
  {
   "cell_type": "code",
   "execution_count": 22,
   "metadata": {},
   "outputs": [],
   "source": [
    "#Loading and viewing the contents of the test dataset"
   ]
  },
  {
   "cell_type": "code",
   "execution_count": 23,
   "metadata": {},
   "outputs": [
    {
     "data": {
      "text/html": [
       "<div>\n",
       "<style scoped>\n",
       "    .dataframe tbody tr th:only-of-type {\n",
       "        vertical-align: middle;\n",
       "    }\n",
       "\n",
       "    .dataframe tbody tr th {\n",
       "        vertical-align: top;\n",
       "    }\n",
       "\n",
       "    .dataframe thead th {\n",
       "        text-align: right;\n",
       "    }\n",
       "</style>\n",
       "<table border=\"1\" class=\"dataframe\">\n",
       "  <thead>\n",
       "    <tr style=\"text-align: right;\">\n",
       "      <th></th>\n",
       "      <th>Image</th>\n",
       "    </tr>\n",
       "  </thead>\n",
       "  <tbody>\n",
       "    <tr>\n",
       "      <th>0</th>\n",
       "      <td>image4703.jpg</td>\n",
       "    </tr>\n",
       "    <tr>\n",
       "      <th>1</th>\n",
       "      <td>image8371.jpg</td>\n",
       "    </tr>\n",
       "    <tr>\n",
       "      <th>2</th>\n",
       "      <td>image8308.jpg</td>\n",
       "    </tr>\n",
       "    <tr>\n",
       "      <th>3</th>\n",
       "      <td>image6299.jpg</td>\n",
       "    </tr>\n",
       "    <tr>\n",
       "      <th>4</th>\n",
       "      <td>image2364.jpg</td>\n",
       "    </tr>\n",
       "  </tbody>\n",
       "</table>\n",
       "</div>"
      ],
      "text/plain": [
       "           Image\n",
       "0  image4703.jpg\n",
       "1  image8371.jpg\n",
       "2  image8308.jpg\n",
       "3  image6299.jpg\n",
       "4  image2364.jpg"
      ]
     },
     "execution_count": 23,
     "metadata": {},
     "output_type": "execute_result"
    }
   ],
   "source": [
    "test_data = pd.read_csv(\"test.csv\")\n",
    "test_data.head()"
   ]
  },
  {
   "cell_type": "code",
   "execution_count": null,
   "metadata": {},
   "outputs": [],
   "source": []
  },
  {
   "cell_type": "code",
   "execution_count": 24,
   "metadata": {},
   "outputs": [],
   "source": [
    "#Function to read, load and convert the test images into number so that we can build the model using the same"
   ]
  },
  {
   "cell_type": "code",
   "execution_count": 25,
   "metadata": {},
   "outputs": [
    {
     "name": "stderr",
     "output_type": "stream",
     "text": [
      "100%|██████████████████████████████████████████████████████████████████████████████| 983/983 [00:00<00:00, 1413.22it/s]\n"
     ]
    }
   ],
   "source": [
    "xtest=[]\n",
    "for i in tqdm(test_data['Image']):\n",
    "    try:\n",
    "        path = 'C:\\\\Users\\\\Alwin\\\\Desktop\\\\Batch-7-Python Demos\\\\AI\\\\CAW studios\\\\test_images\\\\Test\\\\'+str(i)\n",
    "        loaded_image=image.load_img(path,target_size=(50,50))\n",
    "        converted_image=image.img_to_array(loaded_image)\n",
    "        xtest.append(converted_image)\n",
    "    except:\n",
    "        continue"
   ]
  },
  {
   "cell_type": "code",
   "execution_count": 26,
   "metadata": {},
   "outputs": [
    {
     "data": {
      "text/plain": [
       "983"
      ]
     },
     "execution_count": 26,
     "metadata": {},
     "output_type": "execute_result"
    }
   ],
   "source": [
    "#No of images in our test data set\n",
    "len(xtest)"
   ]
  },
  {
   "cell_type": "code",
   "execution_count": 27,
   "metadata": {},
   "outputs": [],
   "source": [
    "xtest = np.array(xtest)"
   ]
  },
  {
   "cell_type": "code",
   "execution_count": 28,
   "metadata": {},
   "outputs": [
    {
     "data": {
      "text/plain": [
       "(983, 50, 50, 3)"
      ]
     },
     "execution_count": 28,
     "metadata": {},
     "output_type": "execute_result"
    }
   ],
   "source": [
    "xtest.shape"
   ]
  },
  {
   "cell_type": "code",
   "execution_count": null,
   "metadata": {},
   "outputs": [],
   "source": []
  },
  {
   "cell_type": "markdown",
   "metadata": {},
   "source": [
    "# Creating a CNN model"
   ]
  },
  {
   "cell_type": "code",
   "execution_count": 30,
   "metadata": {},
   "outputs": [],
   "source": [
    "#We are using a Sequential model for creating a CNN model as it help us to easily stack or add layers in order from input to output \n",
    "from keras.models import Sequential\n",
    "\n",
    "#Convolution and MaxPooling for feature extraction\n",
    "from keras.layers import Conv2D \n",
    "from keras.layers import MaxPooling2D\n",
    "\n",
    "#Dense - for creating a fully connected ANN\n",
    "from keras.layers import Dense\n",
    "\n",
    "#Flatten - To convert the tensor or matrix into single dimension or single row\n",
    "from keras.layers import Flatten\n",
    "\n",
    "#Dropout - To overcome the problem the problem of overfitting\n",
    "from keras.layers import Dropout"
   ]
  },
  {
   "cell_type": "code",
   "execution_count": null,
   "metadata": {},
   "outputs": [],
   "source": []
  },
  {
   "cell_type": "code",
   "execution_count": 31,
   "metadata": {},
   "outputs": [],
   "source": [
    "#Normalizing the train and test dataset"
   ]
  },
  {
   "cell_type": "code",
   "execution_count": 32,
   "metadata": {},
   "outputs": [],
   "source": [
    "xtrain = xtrain/255.0"
   ]
  },
  {
   "cell_type": "code",
   "execution_count": 33,
   "metadata": {},
   "outputs": [],
   "source": [
    "xtest = xtest/255.0"
   ]
  },
  {
   "cell_type": "code",
   "execution_count": null,
   "metadata": {},
   "outputs": [],
   "source": []
  },
  {
   "cell_type": "code",
   "execution_count": 34,
   "metadata": {},
   "outputs": [],
   "source": [
    "## Instantiating the model for CNN\n",
    "my_model = Sequential()"
   ]
  },
  {
   "cell_type": "code",
   "execution_count": 35,
   "metadata": {},
   "outputs": [
    {
     "name": "stdout",
     "output_type": "stream",
     "text": [
      "WARNING:tensorflow:From C:\\Users\\Alwin\\Anaconda3\\envs\\tf1\\lib\\site-packages\\tensorflow_core\\python\\ops\\resource_variable_ops.py:1630: calling BaseResourceVariable.__init__ (from tensorflow.python.ops.resource_variable_ops) with constraint is deprecated and will be removed in a future version.\n",
      "Instructions for updating:\n",
      "If using Keras pass *_constraint arguments to layers.\n"
     ]
    }
   ],
   "source": [
    "##Adding a convolutional layer with argments(no of filters 32, filter or kernel size = (3,3), input_shape of the image(50,50,3) as it a colour image), activation function as relu) \n",
    "my_model.add(Conv2D(32,(3,3),input_shape = (50,50,3),activation = 'relu'))"
   ]
  },
  {
   "cell_type": "code",
   "execution_count": 36,
   "metadata": {},
   "outputs": [
    {
     "name": "stdout",
     "output_type": "stream",
     "text": [
      "WARNING:tensorflow:From C:\\Users\\Alwin\\Anaconda3\\envs\\tf1\\lib\\site-packages\\keras\\backend\\tensorflow_backend.py:4070: The name tf.nn.max_pool is deprecated. Please use tf.nn.max_pool2d instead.\n",
      "\n"
     ]
    }
   ],
   "source": [
    "## Add a Pooling layer. Pooling is then used to reduce the spatial dimensions of the output of the Conv2d layer by considering the max value in each kernel or window.\n",
    "my_model.add(MaxPooling2D(pool_size=(2,2)))"
   ]
  },
  {
   "cell_type": "code",
   "execution_count": 37,
   "metadata": {},
   "outputs": [],
   "source": [
    "## Adding an another Convolutional and Pooling layer\n",
    "my_model.add(Conv2D(64,(3,3),activation = 'relu'))\n",
    "my_model.add(MaxPooling2D(pool_size=(2,2)))"
   ]
  },
  {
   "cell_type": "code",
   "execution_count": 38,
   "metadata": {},
   "outputs": [],
   "source": [
    "## Adding an another Convolutional and Pooling layer\n",
    "my_model.add(Conv2D(64,(3,3),activation = 'relu'))\n",
    "my_model.add(MaxPooling2D(pool_size=(2,2)))"
   ]
  },
  {
   "cell_type": "code",
   "execution_count": 39,
   "metadata": {},
   "outputs": [],
   "source": [
    "##Adding a Flatten layer to flatten out the output of the convolution layers.\n",
    "my_model.add(Flatten())"
   ]
  },
  {
   "cell_type": "code",
   "execution_count": 40,
   "metadata": {},
   "outputs": [],
   "source": [
    "##Creating a fully connected artificial neural network by adding Dense layers. In this model, we have 5 layers (three convolution layers , one hidden dense layer and one output layer. \n",
    "my_model.add(Dense(units = 64,activation = 'relu'))"
   ]
  },
  {
   "cell_type": "code",
   "execution_count": 41,
   "metadata": {},
   "outputs": [],
   "source": [
    "#Add an other dense (output) layer.In the output layer, the number of neurons should be equal to the number of classes in our data. The activation function used is softmax as it is a multi-class classification.\n",
    "my_model.add(Dense(units = 4,activation = 'softmax'))"
   ]
  },
  {
   "cell_type": "code",
   "execution_count": 42,
   "metadata": {},
   "outputs": [],
   "source": [
    "## Here we are compliling our model using appropriate optimizer(I have used adam in this case), defining loss function(categorical_crossentropy as it is a multi-class classifier), metrics(I have used accuracy as a performance measure) \n",
    "my_model.compile(optimizer = 'adam',loss = 'categorical_crossentropy',metrics = ['accuracy'])"
   ]
  },
  {
   "cell_type": "code",
   "execution_count": 43,
   "metadata": {
    "scrolled": false
   },
   "outputs": [
    {
     "name": "stdout",
     "output_type": "stream",
     "text": [
      "Model: \"sequential_1\"\n",
      "_________________________________________________________________\n",
      "Layer (type)                 Output Shape              Param #   \n",
      "=================================================================\n",
      "conv2d_1 (Conv2D)            (None, 48, 48, 32)        896       \n",
      "_________________________________________________________________\n",
      "max_pooling2d_1 (MaxPooling2 (None, 24, 24, 32)        0         \n",
      "_________________________________________________________________\n",
      "conv2d_2 (Conv2D)            (None, 22, 22, 64)        18496     \n",
      "_________________________________________________________________\n",
      "max_pooling2d_2 (MaxPooling2 (None, 11, 11, 64)        0         \n",
      "_________________________________________________________________\n",
      "conv2d_3 (Conv2D)            (None, 9, 9, 64)          36928     \n",
      "_________________________________________________________________\n",
      "max_pooling2d_3 (MaxPooling2 (None, 4, 4, 64)          0         \n",
      "_________________________________________________________________\n",
      "flatten_1 (Flatten)          (None, 1024)              0         \n",
      "_________________________________________________________________\n",
      "dense_1 (Dense)              (None, 64)                65600     \n",
      "_________________________________________________________________\n",
      "dense_2 (Dense)              (None, 4)                 260       \n",
      "=================================================================\n",
      "Total params: 122,180\n",
      "Trainable params: 122,180\n",
      "Non-trainable params: 0\n",
      "_________________________________________________________________\n"
     ]
    }
   ],
   "source": [
    "my_model.summary()"
   ]
  },
  {
   "cell_type": "code",
   "execution_count": 46,
   "metadata": {},
   "outputs": [
    {
     "data": {
      "text/plain": [
       "(5000, 50, 50, 3)"
      ]
     },
     "execution_count": 46,
     "metadata": {},
     "output_type": "execute_result"
    }
   ],
   "source": [
    "xtrain.shape"
   ]
  },
  {
   "cell_type": "code",
   "execution_count": null,
   "metadata": {},
   "outputs": [],
   "source": []
  },
  {
   "cell_type": "markdown",
   "metadata": {},
   "source": [
    "# Fitting the model on the training dataset and training it"
   ]
  },
  {
   "cell_type": "code",
   "execution_count": 51,
   "metadata": {},
   "outputs": [
    {
     "name": "stdout",
     "output_type": "stream",
     "text": [
      "Epoch 1/10\n",
      "5000/5000 [==============================] - 38s 8ms/step - loss: 0.1297 - accuracy: 0.9628\n",
      "Epoch 2/10\n",
      "5000/5000 [==============================] - 38s 8ms/step - loss: 0.0879 - accuracy: 0.9778\n",
      "Epoch 3/10\n",
      "5000/5000 [==============================] - 38s 8ms/step - loss: 0.1236 - accuracy: 0.9604\n",
      "Epoch 4/10\n",
      "5000/5000 [==============================] - 39s 8ms/step - loss: 0.0861 - accuracy: 0.9752\n",
      "Epoch 5/10\n",
      "5000/5000 [==============================] - 38s 8ms/step - loss: 0.0636 - accuracy: 0.9842\n",
      "Epoch 6/10\n",
      "5000/5000 [==============================] - 38s 8ms/step - loss: 0.0947 - accuracy: 0.9752\n",
      "Epoch 7/10\n",
      "5000/5000 [==============================] - 38s 8ms/step - loss: 0.1126 - accuracy: 0.9644\n",
      "Epoch 8/10\n",
      "5000/5000 [==============================] - 38s 8ms/step - loss: 0.0896 - accuracy: 0.9700\n",
      "Epoch 9/10\n",
      "5000/5000 [==============================] - 44s 9ms/step - loss: 0.0797 - accuracy: 0.9782\n",
      "Epoch 10/10\n",
      "5000/5000 [==============================] - 43s 9ms/step - loss: 0.1074 - accuracy: 0.9654\n"
     ]
    },
    {
     "data": {
      "text/plain": [
       "<keras.callbacks.callbacks.History at 0x2d428f68808>"
      ]
     },
     "execution_count": 51,
     "metadata": {},
     "output_type": "execute_result"
    }
   ],
   "source": [
    "my_model.fit(xtrain,ytrain,epochs = 10)"
   ]
  },
  {
   "cell_type": "code",
   "execution_count": null,
   "metadata": {},
   "outputs": [],
   "source": []
  },
  {
   "cell_type": "code",
   "execution_count": 53,
   "metadata": {},
   "outputs": [],
   "source": [
    "#Using the trained model to predict the output of the test dataset\n",
    "predict = my_model.predict(xtest)"
   ]
  },
  {
   "cell_type": "code",
   "execution_count": 54,
   "metadata": {},
   "outputs": [],
   "source": [
    "#Using argmax function to return the class of the observation where the probability value is the maximum\n",
    "sess = tf.Session()\n",
    "result = sess.run(tf.argmax(predict,1))"
   ]
  },
  {
   "cell_type": "code",
   "execution_count": 55,
   "metadata": {},
   "outputs": [
    {
     "data": {
      "text/plain": [
       "array([2, 1, 2, 0, 2, 0, 0, 0, 0, 2, 0, 2, 0, 1, 3, 0, 2, 1, 3, 0, 3, 0,\n",
       "       2, 2, 1, 1, 2, 2, 2, 0, 0, 0, 2, 0, 3, 0, 0, 2, 1, 0, 0, 0, 2, 1,\n",
       "       2, 0, 2, 1, 0, 3, 3, 2, 2, 3, 3, 2, 3, 0, 0, 2, 3, 0, 2, 2, 3, 1,\n",
       "       2, 0, 2, 2, 0, 2, 0, 1, 3, 2, 0, 0, 2, 3, 2, 3, 1, 0, 0, 1, 2, 3,\n",
       "       0, 2, 0, 2, 2, 2, 0, 2, 0, 3, 2, 2, 0, 0, 2, 2, 2, 2, 2, 0, 2, 0,\n",
       "       0, 2, 0, 3, 3, 3, 0, 2, 2, 3, 2, 2, 1, 2, 1, 0, 2, 2, 0, 3, 0, 3,\n",
       "       0, 0, 2, 2, 0, 0, 0, 3, 3, 2, 3, 2, 2, 2, 0, 3, 1, 2, 0, 0, 3, 1,\n",
       "       0, 2, 0, 2, 0, 2, 2, 2, 2, 2, 2, 3, 2, 0, 2, 3, 0, 2, 0, 2, 0, 2,\n",
       "       2, 2, 3, 2, 2, 0, 3, 1, 3, 0, 2, 1, 3, 3, 1, 0, 0, 2, 2, 3, 2, 2,\n",
       "       2, 3, 2, 3, 0, 2, 0, 2, 3, 0, 0, 3, 2, 1, 2, 0, 2, 0, 3, 0, 0, 0,\n",
       "       0, 3, 0, 2, 0, 0, 2, 2, 3, 3, 1, 2, 3, 1, 2, 3, 2, 2, 0, 3, 3, 3,\n",
       "       2, 2, 1, 2, 2, 0, 3, 0, 3, 2, 0, 2, 2, 2, 2, 2, 2, 2, 2, 3, 3, 0,\n",
       "       1, 0, 3, 3, 3, 0, 2, 1, 0, 0, 0, 0, 0, 2, 0, 2, 3, 3, 3, 2, 2, 1,\n",
       "       2, 0, 2, 2, 2, 0, 0, 3, 0, 2, 1, 2, 2, 2, 0, 3, 2, 3, 3, 0, 0, 0,\n",
       "       0, 2, 0, 2, 1, 0, 0, 3, 0, 3, 2, 1, 2, 2, 3, 1, 0, 2, 0, 3, 3, 2,\n",
       "       2, 0, 0, 2, 0, 0, 1, 3, 2, 2, 0, 3, 0, 1, 2, 0, 2, 2, 2, 2, 0, 0,\n",
       "       3, 2, 3, 1, 0, 0, 3, 3, 2, 0, 2, 2, 2, 3, 3, 0, 0, 3, 2, 3, 2, 1,\n",
       "       3, 1, 0, 0, 0, 3, 1, 2, 2, 0, 0, 1, 2, 0, 2, 3, 3, 3, 3, 3, 3, 2,\n",
       "       2, 2, 0, 1, 2, 2, 2, 2, 1, 0, 0, 3, 1, 3, 0, 3, 2, 3, 2, 0, 0, 2,\n",
       "       2, 2, 1, 0, 3, 0, 2, 2, 0, 1, 0, 3, 3, 1, 3, 3, 3, 3, 0, 3, 3, 1,\n",
       "       0, 1, 2, 0, 1, 2, 2, 2, 0, 3, 0, 0, 0, 1, 3, 0, 3, 2, 0, 2, 3, 0,\n",
       "       2, 3, 0, 3, 0, 2, 3, 1, 2, 0, 2, 0, 0, 0, 0, 2, 2, 0, 2, 3, 2, 0,\n",
       "       0, 0, 1, 0, 1, 0, 3, 2, 0, 0, 2, 2, 2, 2, 2, 3, 1, 2, 0, 3, 2, 0,\n",
       "       3, 0, 2, 3, 0, 3, 2, 1, 0, 3, 3, 1, 1, 2, 3, 3, 1, 3, 2, 2, 2, 2,\n",
       "       2, 2, 2, 0, 0, 2, 2, 2, 2, 1, 3, 2, 3, 0, 3, 0, 1, 2, 2, 3, 0, 0,\n",
       "       0, 2, 3, 0, 2, 2, 0, 3, 1, 2, 2, 3, 0, 0, 1, 0, 0, 0, 2, 3, 2, 2,\n",
       "       0, 0, 2, 2, 2, 2, 1, 0, 3, 1, 2, 3, 2, 2, 2, 0, 0, 2, 1, 0, 1, 3,\n",
       "       2, 0, 1, 2, 2, 0, 3, 2, 3, 3, 1, 0, 0, 2, 3, 2, 2, 0, 3, 0, 2, 0,\n",
       "       2, 2, 3, 1, 3, 2, 3, 1, 3, 0, 1, 1, 2, 2, 2, 2, 3, 0, 0, 2, 2, 0,\n",
       "       2, 3, 2, 2, 2, 0, 3, 0, 3, 2, 0, 3, 2, 2, 3, 3, 3, 2, 2, 0, 2, 0,\n",
       "       2, 2, 2, 3, 1, 3, 2, 2, 1, 3, 3, 2, 0, 3, 2, 1, 0, 0, 3, 0, 0, 3,\n",
       "       2, 2, 2, 0, 0, 0, 1, 2, 2, 2, 3, 0, 2, 2, 0, 3, 1, 0, 2, 3, 3, 2,\n",
       "       0, 1, 3, 2, 0, 0, 2, 0, 3, 2, 3, 0, 2, 0, 0, 0, 2, 3, 0, 2, 3, 0,\n",
       "       2, 0, 2, 2, 2, 3, 0, 2, 3, 2, 0, 3, 2, 2, 2, 3, 0, 2, 0, 3, 1, 2,\n",
       "       2, 2, 2, 2, 2, 0, 2, 1, 0, 0, 0, 2, 2, 2, 2, 3, 1, 2, 2, 0, 3, 2,\n",
       "       1, 2, 0, 1, 0, 3, 2, 2, 3, 3, 2, 2, 3, 2, 1, 2, 0, 3, 3, 2, 2, 2,\n",
       "       3, 1, 0, 2, 3, 2, 1, 3, 0, 3, 0, 0, 2, 3, 3, 0, 3, 0, 3, 0, 2, 1,\n",
       "       3, 3, 0, 3, 2, 0, 0, 2, 0, 0, 2, 2, 0, 2, 2, 2, 0, 3, 2, 2, 2, 0,\n",
       "       2, 2, 0, 0, 1, 3, 2, 2, 2, 1, 0, 3, 2, 3, 0, 0, 0, 1, 0, 2, 2, 2,\n",
       "       2, 3, 0, 3, 2, 0, 1, 0, 1, 3, 0, 3, 2, 2, 0, 0, 2, 3, 1, 3, 3, 3,\n",
       "       2, 1, 3, 2, 2, 0, 2, 2, 2, 3, 2, 2, 2, 0, 3, 2, 0, 0, 2, 3, 3, 3,\n",
       "       2, 3, 0, 1, 0, 0, 2, 0, 0, 0, 3, 3, 0, 0, 3, 3, 2, 2, 0, 2, 2, 0,\n",
       "       2, 3, 0, 3, 2, 2, 2, 2, 2, 0, 2, 2, 2, 2, 2, 2, 2, 0, 2, 2, 2, 3,\n",
       "       2, 0, 3, 0, 2, 0, 0, 2, 3, 3, 2, 0, 0, 0, 3, 2, 0, 0, 3, 2, 2, 1,\n",
       "       0, 2, 3, 1, 2, 2, 2, 2, 3, 0, 0, 0, 2, 2, 0], dtype=int64)"
      ]
     },
     "execution_count": 55,
     "metadata": {},
     "output_type": "execute_result"
    }
   ],
   "source": [
    "result"
   ]
  },
  {
   "cell_type": "code",
   "execution_count": 56,
   "metadata": {},
   "outputs": [
    {
     "data": {
      "text/plain": [
       "983"
      ]
     },
     "execution_count": 56,
     "metadata": {},
     "output_type": "execute_result"
    }
   ],
   "source": [
    "len(result)"
   ]
  },
  {
   "cell_type": "code",
   "execution_count": null,
   "metadata": {},
   "outputs": [],
   "source": []
  },
  {
   "cell_type": "code",
   "execution_count": 57,
   "metadata": {},
   "outputs": [],
   "source": [
    "#Running an inference using a single test image which has not been used for train or testing to check if the model is predicting correctly.\n",
    "test_image = image.load_img('C:\\\\Users\\\\Alwin\\\\Desktop\\\\Batch-7-Python Demos\\\\AI\\\\Class\\\\Pizza\\\\inference\\\\good2.jpg',target_size=(50,50,3))"
   ]
  },
  {
   "cell_type": "code",
   "execution_count": 58,
   "metadata": {},
   "outputs": [
    {
     "data": {
      "image/png": "[encoded data removed]",
      "text/plain": [
       "<PIL.Image.Image image mode=RGB size=50x50 at 0x2D428F68608>"
      ]
     },
     "execution_count": 58,
     "metadata": {},
     "output_type": "execute_result"
    }
   ],
   "source": [
    "test_image"
   ]
  },
  {
   "cell_type": "code",
   "execution_count": 59,
   "metadata": {},
   "outputs": [],
   "source": [
    "## Convert image to array\n",
    "test_image = image.img_to_array(test_image)"
   ]
  },
  {
   "cell_type": "code",
   "execution_count": 60,
   "metadata": {},
   "outputs": [
    {
     "data": {
      "text/plain": [
       "(50, 50, 3)"
      ]
     },
     "execution_count": 60,
     "metadata": {},
     "output_type": "execute_result"
    }
   ],
   "source": [
    "test_image.shape"
   ]
  },
  {
   "cell_type": "code",
   "execution_count": 61,
   "metadata": {},
   "outputs": [],
   "source": [
    "#The model expects the data to be a 4 dimensional image, hence reshaping the test image.\n",
    "test_image = test_image.reshape(1,50,50,3)"
   ]
  },
  {
   "cell_type": "code",
   "execution_count": 74,
   "metadata": {},
   "outputs": [
    {
     "data": {
      "text/plain": [
       "array([[0., 0., 1., 0.]], dtype=float32)"
      ]
     },
     "execution_count": 74,
     "metadata": {},
     "output_type": "execute_result"
    }
   ],
   "source": [
    "#Using the trained model to predict the outcome.\n",
    "result_inference =my_model.predict(test_image)\n",
    "result_inference"
   ]
  },
  {
   "cell_type": "code",
   "execution_count": 75,
   "metadata": {},
   "outputs": [
    {
     "data": {
      "text/plain": [
       "array([2], dtype=int64)"
      ]
     },
     "execution_count": 75,
     "metadata": {},
     "output_type": "execute_result"
    }
   ],
   "source": [
    "result_inference = sess.run(tf.argmax(result_inference,1))\n",
    "result_inference"
   ]
  },
  {
   "cell_type": "code",
   "execution_count": 66,
   "metadata": {},
   "outputs": [
    {
     "data": {
      "text/plain": [
       "Index(['Attire', 'Decorationandsignage', 'Food', 'misc'], dtype='object')"
      ]
     },
     "execution_count": 66,
     "metadata": {},
     "output_type": "execute_result"
    }
   ],
   "source": [
    "labels.columns"
   ]
  },
  {
   "cell_type": "code",
   "execution_count": 76,
   "metadata": {},
   "outputs": [
    {
     "name": "stdout",
     "output_type": "stream",
     "text": [
      "The image is of Food class\n"
     ]
    }
   ],
   "source": [
    "if (result_inference == 0):\n",
    "    print(\"The image is of Attire class\")\n",
    "elif (result_inference == 1):\n",
    "    print(\"The image is of Decoration and Signage class\")\n",
    "elif (result_inference == 2):\n",
    "    print(\"The image is of Food class\")\n",
    "else:\n",
    "    print(\"The image is of Misc class\")"
   ]
  },
  {
   "cell_type": "code",
   "execution_count": null,
   "metadata": {},
   "outputs": [],
   "source": []
  },
  {
   "cell_type": "code",
   "execution_count": null,
   "metadata": {},
   "outputs": [],
   "source": [
    "#Saving the result as required for the submission"
   ]
  },
  {
   "cell_type": "code",
   "execution_count": 78,
   "metadata": {},
   "outputs": [],
   "source": [
    "final_result = []\n",
    "for i in result:\n",
    "    if (i == 0):\n",
    "        final_result.append('Attire')\n",
    "    elif (i == 1):\n",
    "        final_result.append('Decorationandsignage')\n",
    "    elif (i == 2):\n",
    "        final_result.append('Food')\n",
    "    else:\n",
    "        final_result.append('misc')"
   ]
  },
  {
   "cell_type": "code",
   "execution_count": 79,
   "metadata": {},
   "outputs": [],
   "source": [
    "test_data['Class'] = final_result"
   ]
  },
  {
   "cell_type": "code",
   "execution_count": null,
   "metadata": {},
   "outputs": [],
   "source": [
    "#Saving the output to the file submission.csv"
   ]
  },
  {
   "cell_type": "code",
   "execution_count": 80,
   "metadata": {},
   "outputs": [],
   "source": [
    "test_data.to_csv(\"submission.csv\")"
   ]
  },
  {
   "cell_type": "code",
   "execution_count": null,
   "metadata": {},
   "outputs": [],
   "source": []
  },
  {
   "cell_type": "code",
   "execution_count": null,
   "metadata": {},
   "outputs": [],
   "source": []
  },
  {
   "cell_type": "code",
   "execution_count": null,
   "metadata": {},
   "outputs": [],
   "source": []
  },
  {
   "cell_type": "code",
   "execution_count": null,
   "metadata": {},
   "outputs": [],
   "source": [
    "#Transfer Learning - Using VGG16 pretrained model for the same task"
   ]
  },
  {
   "cell_type": "code",
   "execution_count": 95,
   "metadata": {},
   "outputs": [],
   "source": [
    "IMAGE_SIZE = 50\n",
    "IMG_SHAPE = (IMAGE_SIZE, IMAGE_SIZE, 3)"
   ]
  },
  {
   "cell_type": "code",
   "execution_count": 96,
   "metadata": {},
   "outputs": [],
   "source": [
    "base_model = keras.applications.VGG16(input_shape=IMG_SHAPE,\n",
    "                                               include_top=False, \n",
    "                                               weights='imagenet')"
   ]
  },
  {
   "cell_type": "code",
   "execution_count": 97,
   "metadata": {},
   "outputs": [],
   "source": [
    "base_model.trainable = False"
   ]
  },
  {
   "cell_type": "code",
   "execution_count": 98,
   "metadata": {},
   "outputs": [],
   "source": [
    "# Trainable classification head\n",
    "maxpool_layer = keras.layers.GlobalMaxPooling2D()\n",
    "prediction_layer = keras.layers.Dense(4, activation='softmax')"
   ]
  },
  {
   "cell_type": "code",
   "execution_count": 99,
   "metadata": {},
   "outputs": [],
   "source": [
    "classifier = keras.Sequential([\n",
    "    base_model,\n",
    "    maxpool_layer,\n",
    "    prediction_layer\n",
    "])"
   ]
  },
  {
   "cell_type": "code",
   "execution_count": 100,
   "metadata": {},
   "outputs": [],
   "source": [
    "classifier.compile(optimizer=keras.optimizers.Adam(),\n",
    "             loss='categorical_crossentropy',\n",
    "             metrics=['accuracy'])"
   ]
  },
  {
   "cell_type": "code",
   "execution_count": 102,
   "metadata": {},
   "outputs": [
    {
     "name": "stdout",
     "output_type": "stream",
     "text": [
      "Epoch 1/5\n",
      "5000/5000 [==============================] - 275s 55ms/step - loss: 1.5802 - accuracy: 0.6120\n",
      "Epoch 2/5\n",
      "5000/5000 [==============================] - 274s 55ms/step - loss: 1.4384 - accuracy: 0.6168\n",
      "Epoch 3/5\n",
      "5000/5000 [==============================] - 284s 57ms/step - loss: 1.3280 - accuracy: 0.6178\n",
      "Epoch 4/5\n",
      "5000/5000 [==============================] - 300s 60ms/step - loss: 1.2640 - accuracy: 0.6172\n",
      "Epoch 5/5\n",
      "5000/5000 [==============================] - 309s 62ms/step - loss: 1.2274 - accuracy: 0.6174\n"
     ]
    },
    {
     "data": {
      "text/plain": [
       "<keras.callbacks.callbacks.History at 0x2d43724d3c8>"
      ]
     },
     "execution_count": 102,
     "metadata": {},
     "output_type": "execute_result"
    }
   ],
   "source": [
    "classifier.fit(xtrain,ytrain,epochs = 5)"
   ]
  },
  {
   "cell_type": "code",
   "execution_count": 104,
   "metadata": {},
   "outputs": [
    {
     "name": "stdout",
     "output_type": "stream",
     "text": [
      "Epoch 1/5\n",
      "5000/5000 [==============================] - 273s 55ms/step - loss: 1.0023 - accuracy: 0.6422\n",
      "Epoch 2/5\n",
      "5000/5000 [==============================] - 272s 54ms/step - loss: 0.9898 - accuracy: 0.6366\n",
      "Epoch 3/5\n",
      "5000/5000 [==============================] - 272s 54ms/step - loss: 0.9844 - accuracy: 0.6422\n",
      "Epoch 4/5\n",
      "5000/5000 [==============================] - 272s 54ms/step - loss: 0.9913 - accuracy: 0.6410\n",
      "Epoch 5/5\n",
      "5000/5000 [==============================] - 273s 55ms/step - loss: 0.9808 - accuracy: 0.6434\n"
     ]
    },
    {
     "data": {
      "text/plain": [
       "<keras.callbacks.callbacks.History at 0x2d455aad188>"
      ]
     },
     "execution_count": 104,
     "metadata": {},
     "output_type": "execute_result"
    }
   ],
   "source": [
    "classifier.fit(xtrain,ytrain,epochs = 5,batch_size=50)"
   ]
  },
  {
   "cell_type": "code",
   "execution_count": 106,
   "metadata": {},
   "outputs": [],
   "source": [
    "predict = classifier.predict(xtest)"
   ]
  },
  {
   "cell_type": "code",
   "execution_count": 108,
   "metadata": {},
   "outputs": [],
   "source": [
    "result = sess.run(tf.argmax(predict,1))"
   ]
  },
  {
   "cell_type": "code",
   "execution_count": 109,
   "metadata": {},
   "outputs": [
    {
     "data": {
      "text/plain": [
       "array([3, 3, 3, 3, 3, 3, 3, 0, 0, 3, 3, 3, 0, 3, 3, 2, 3, 2, 3, 3, 3, 3,\n",
       "       3, 2, 0, 3, 0, 3, 2, 0, 3, 0, 2, 3, 3, 0, 3, 3, 3, 3, 3, 3, 3, 3,\n",
       "       3, 3, 3, 3, 3, 3, 2, 2, 2, 3, 3, 3, 3, 0, 3, 0, 3, 3, 3, 3, 3, 3,\n",
       "       3, 3, 2, 2, 0, 3, 3, 3, 3, 3, 3, 0, 2, 3, 3, 3, 3, 0, 0, 3, 3, 0,\n",
       "       2, 3, 0, 2, 2, 3, 0, 2, 0, 0, 3, 2, 2, 3, 3, 1, 3, 3, 2, 3, 3, 3,\n",
       "       3, 3, 3, 3, 3, 3, 3, 2, 2, 3, 2, 3, 3, 3, 3, 2, 2, 3, 2, 3, 0, 3,\n",
       "       0, 2, 0, 3, 3, 3, 3, 2, 3, 3, 3, 3, 0, 2, 3, 2, 3, 2, 3, 3, 2, 3,\n",
       "       0, 0, 3, 3, 2, 3, 3, 3, 3, 2, 2, 3, 3, 0, 0, 3, 2, 3, 3, 3, 3, 3,\n",
       "       2, 0, 0, 2, 0, 2, 3, 3, 2, 0, 3, 3, 3, 3, 3, 3, 2, 3, 2, 3, 3, 3,\n",
       "       0, 3, 2, 0, 3, 3, 0, 3, 3, 3, 3, 3, 3, 3, 2, 3, 3, 3, 3, 0, 2, 3,\n",
       "       3, 3, 3, 3, 3, 2, 3, 2, 3, 0, 3, 2, 3, 3, 2, 0, 3, 3, 3, 3, 3, 0,\n",
       "       3, 3, 3, 0, 3, 3, 3, 0, 0, 3, 2, 2, 3, 3, 2, 3, 3, 2, 2, 3, 3, 2,\n",
       "       3, 3, 1, 3, 3, 0, 3, 2, 3, 3, 2, 3, 3, 3, 3, 3, 3, 3, 2, 3, 3, 3,\n",
       "       2, 3, 2, 3, 2, 0, 3, 3, 3, 3, 3, 3, 3, 3, 3, 3, 3, 3, 3, 3, 0, 3,\n",
       "       0, 3, 3, 3, 3, 2, 3, 0, 0, 3, 3, 3, 3, 3, 3, 3, 2, 3, 2, 3, 3, 3,\n",
       "       2, 3, 3, 2, 3, 2, 3, 0, 3, 2, 3, 2, 0, 3, 3, 2, 3, 3, 3, 2, 3, 0,\n",
       "       2, 3, 3, 3, 2, 3, 3, 3, 2, 3, 2, 3, 2, 3, 0, 3, 2, 3, 2, 3, 3, 2,\n",
       "       0, 3, 0, 3, 3, 3, 3, 3, 0, 3, 0, 3, 3, 2, 1, 3, 3, 3, 3, 3, 3, 3,\n",
       "       3, 2, 2, 0, 3, 0, 3, 2, 3, 0, 0, 3, 3, 3, 0, 3, 2, 3, 3, 3, 3, 0,\n",
       "       2, 2, 3, 3, 3, 3, 2, 3, 0, 3, 0, 2, 3, 3, 2, 3, 3, 3, 2, 3, 2, 3,\n",
       "       3, 3, 3, 3, 2, 3, 3, 3, 3, 3, 0, 2, 3, 3, 3, 3, 3, 3, 3, 3, 3, 2,\n",
       "       0, 3, 3, 3, 3, 2, 0, 3, 3, 3, 3, 3, 3, 3, 3, 3, 2, 3, 3, 3, 2, 0,\n",
       "       3, 3, 3, 3, 3, 3, 0, 3, 3, 3, 3, 2, 2, 3, 2, 3, 0, 3, 3, 2, 3, 0,\n",
       "       3, 3, 3, 3, 3, 3, 3, 3, 3, 3, 3, 3, 3, 0, 3, 2, 3, 3, 2, 0, 0, 3,\n",
       "       3, 0, 3, 2, 3, 3, 3, 0, 3, 2, 3, 3, 3, 3, 0, 2, 3, 3, 2, 3, 3, 0,\n",
       "       3, 3, 3, 3, 3, 2, 3, 3, 3, 2, 3, 3, 2, 3, 3, 0, 3, 0, 3, 3, 2, 0,\n",
       "       0, 3, 3, 3, 3, 3, 3, 3, 3, 3, 3, 3, 3, 3, 3, 2, 3, 3, 0, 3, 2, 0,\n",
       "       3, 1, 3, 3, 3, 2, 3, 3, 2, 3, 3, 0, 2, 2, 2, 3, 3, 3, 2, 3, 2, 3,\n",
       "       3, 2, 3, 3, 3, 2, 3, 3, 0, 0, 0, 3, 3, 3, 3, 3, 3, 2, 3, 2, 3, 3,\n",
       "       3, 3, 3, 3, 3, 3, 3, 3, 2, 3, 3, 0, 3, 2, 3, 0, 2, 3, 0, 0, 3, 2,\n",
       "       3, 2, 2, 3, 2, 3, 3, 0, 2, 2, 3, 2, 3, 3, 2, 3, 3, 0, 3, 3, 2, 3,\n",
       "       3, 0, 2, 3, 3, 3, 3, 3, 3, 3, 0, 1, 3, 2, 0, 3, 3, 3, 3, 2, 3, 2,\n",
       "       3, 2, 3, 3, 2, 3, 2, 3, 3, 3, 3, 2, 3, 0, 0, 2, 3, 3, 2, 2, 3, 2,\n",
       "       3, 0, 3, 2, 2, 3, 3, 2, 3, 2, 3, 3, 2, 2, 2, 2, 3, 3, 3, 3, 3, 3,\n",
       "       2, 3, 0, 3, 2, 0, 3, 3, 0, 2, 0, 2, 3, 2, 2, 3, 3, 3, 2, 3, 0, 3,\n",
       "       3, 3, 2, 2, 3, 3, 3, 3, 3, 3, 3, 3, 2, 2, 3, 3, 0, 3, 3, 2, 3, 3,\n",
       "       3, 2, 3, 2, 3, 3, 3, 2, 2, 0, 3, 2, 0, 2, 3, 3, 2, 3, 2, 2, 3, 1,\n",
       "       3, 3, 3, 2, 3, 0, 3, 3, 2, 2, 2, 2, 3, 2, 2, 2, 0, 0, 3, 3, 0, 0,\n",
       "       2, 2, 3, 0, 3, 3, 3, 2, 3, 3, 3, 3, 3, 3, 3, 3, 3, 3, 3, 3, 3, 3,\n",
       "       2, 2, 3, 3, 3, 2, 3, 3, 0, 2, 3, 3, 3, 3, 3, 3, 3, 3, 3, 3, 3, 3,\n",
       "       3, 3, 3, 0, 3, 0, 3, 3, 3, 3, 0, 2, 0, 2, 3, 3, 3, 0, 0, 3, 3, 3,\n",
       "       2, 0, 3, 3, 3, 3, 3, 3, 3, 3, 3, 3, 2, 3, 3, 3, 2, 3, 3, 3, 3, 3,\n",
       "       2, 3, 3, 2, 2, 3, 2, 3, 2, 3, 2, 3, 2, 3, 3, 0, 3, 3, 3, 3, 2, 3,\n",
       "       2, 3, 3, 2, 2, 3, 3, 0, 3, 3, 2, 0, 2, 3, 3, 0, 3, 0, 3, 2, 2, 3,\n",
       "       3, 2, 2, 1, 0, 3, 3, 3, 3, 2, 2, 3, 2, 2, 2], dtype=int64)"
      ]
     },
     "execution_count": 109,
     "metadata": {},
     "output_type": "execute_result"
    }
   ],
   "source": [
    "result"
   ]
  },
  {
   "cell_type": "code",
   "execution_count": null,
   "metadata": {},
   "outputs": [],
   "source": [
    "##Since the results were better for custom CNN, considering the result of the custom CNN as the final model"
   ]
  }
 ],
 "metadata": {
  "kernelspec": {
   "display_name": "Python 3",
   "language": "python",
   "name": "python3"
  },
  "language_info": {
   "codemirror_mode": {
    "name": "ipython",
    "version": 3
   },
   "file_extension": ".py",
   "mimetype": "text/x-python",
   "name": "python",
   "nbconvert_exporter": "python",
   "pygments_lexer": "ipython3",
   "version": "3.7.5"
  }
 },
 "nbformat": 4,
 "nbformat_minor": 2
}
